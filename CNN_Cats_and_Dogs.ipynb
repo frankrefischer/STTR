{
  "nbformat": 4,
  "nbformat_minor": 0,
  "metadata": {
    "colab": {
      "name": "CNN Cats and Dogs.ipynb",
      "provenance": [],
      "collapsed_sections": [],
      "include_colab_link": true
    },
    "kernelspec": {
      "name": "python3",
      "display_name": "Python 3"
    }
  },
  "cells": [
    {
      "cell_type": "markdown",
      "metadata": {
        "id": "view-in-github",
        "colab_type": "text"
      },
      "source": [
        "<a href=\"https://colab.research.google.com/github/frankrefischer/STTR/blob/master/CNN_Cats_and_Dogs.ipynb\" target=\"_parent\"><img src=\"https://colab.research.google.com/assets/colab-badge.svg\" alt=\"Open In Colab\"/></a>"
      ]
    },
    {
      "cell_type": "code",
      "metadata": {
        "id": "B94gmpELefX6",
        "colab_type": "code",
        "colab": {
          "base_uri": "https://localhost:8080/",
          "height": 54
        },
        "outputId": "bd6a0d07-3957-4852-967c-ff39f465f486"
      },
      "source": [
        "import tensorflow as tf\n",
        "print(tf.__version__)"
      ],
      "execution_count": 1,
      "outputs": [
        {
          "output_type": "stream",
          "text": [
            "2.1.0\n"
          ],
          "name": "stdout"
        }
      ]
    },
    {
      "cell_type": "code",
      "metadata": {
        "id": "Yfd9JUXifOgm",
        "colab_type": "code",
        "colab": {}
      },
      "source": [
        "from tensorflow.keras.models import Sequential\n",
        "from tensorflow.keras.layers import Dense, Conv2D, Flatten, Dropout, MaxPooling2D\n",
        "from tensorflow.keras.preprocessing.image import ImageDataGenerator"
      ],
      "execution_count": 0,
      "outputs": []
    },
    {
      "cell_type": "code",
      "metadata": {
        "id": "M-VGjksCfQBx",
        "colab_type": "code",
        "colab": {}
      },
      "source": [
        "import os\n",
        "import numpy as np\n",
        "import matplotlib.pyplot as plt\n",
        "from pathlib import Path\n",
        "\n",
        "from glob import glob"
      ],
      "execution_count": 0,
      "outputs": []
    },
    {
      "cell_type": "code",
      "metadata": {
        "id": "qh8DcrFQqLj1",
        "colab_type": "code",
        "colab": {}
      },
      "source": [
        "def download_cats_and_dogs_data():\n",
        "  download_url = 'https://storage.googleapis.com/mledu-datasets/cats_and_dogs_filtered.zip'\n",
        "  filepath = tf.keras.utils.get_file('cats_and_dogs.zip', origin=download_url, extract=True)\n",
        "  return Path(filepath).parent.joinpath('cats_and_dogs_filtered')\n",
        "\n",
        "data_dir = download_cats_and_dogs_data()"
      ],
      "execution_count": 0,
      "outputs": []
    },
    {
      "cell_type": "code",
      "metadata": {
        "id": "8ckiIwIitLhq",
        "colab_type": "code",
        "colab": {
          "base_uri": "https://localhost:8080/",
          "height": 54
        },
        "outputId": "357e5a10-34db-476d-e2d3-319e2e5d4908"
      },
      "source": [
        "data_dir"
      ],
      "execution_count": 11,
      "outputs": [
        {
          "output_type": "execute_result",
          "data": {
            "text/plain": [
              "PosixPath('/root/.keras/datasets/cats_and_dogs_filtered')"
            ]
          },
          "metadata": {
            "tags": []
          },
          "execution_count": 11
        }
      ]
    },
    {
      "cell_type": "code",
      "metadata": {
        "id": "5IOY6chetNo9",
        "colab_type": "code",
        "colab": {
          "base_uri": "https://localhost:8080/",
          "height": 104
        },
        "outputId": "2d6498fc-5a5e-48eb-933d-933f736cbd4d"
      },
      "source": [
        "glob(data_dir.joinpath('*/*').as_posix())"
      ],
      "execution_count": 23,
      "outputs": [
        {
          "output_type": "execute_result",
          "data": {
            "text/plain": [
              "['/root/.keras/datasets/cats_and_dogs_filtered/validation/dogs',\n",
              " '/root/.keras/datasets/cats_and_dogs_filtered/validation/cats',\n",
              " '/root/.keras/datasets/cats_and_dogs_filtered/train/dogs',\n",
              " '/root/.keras/datasets/cats_and_dogs_filtered/train/cats']"
            ]
          },
          "metadata": {
            "tags": []
          },
          "execution_count": 23
        }
      ]
    },
    {
      "cell_type": "code",
      "metadata": {
        "id": "LC6065FttVqL",
        "colab_type": "code",
        "colab": {}
      },
      "source": [
        "train_dir = data_dir.joinpath('train')\n",
        "validation_dir = data_dir.joinpath('validation')"
      ],
      "execution_count": 0,
      "outputs": []
    },
    {
      "cell_type": "code",
      "metadata": {
        "id": "Jdgvg23VuXuQ",
        "colab_type": "code",
        "colab": {}
      },
      "source": [
        "train_cats_dir = train_dir.joinpath('cats')\n",
        "train_dogs_dir = train_dir.joinpath('dogs')\n",
        "validation_cats_dir = validation_dir.joinpath('cats')\n",
        "validation_dogs_dir = validation_dir.joinpath('dogs')"
      ],
      "execution_count": 0,
      "outputs": []
    },
    {
      "cell_type": "code",
      "metadata": {
        "id": "hnmHiDIGvzra",
        "colab_type": "code",
        "colab": {
          "base_uri": "https://localhost:8080/",
          "height": 153
        },
        "outputId": "43386af9-d957-46bd-c3f9-374ed128b378"
      },
      "source": [
        "def how_many_cats_and_dogs_images_are_there():\n",
        "  num_cats_tr = len(glob(train_cats_dir.joinpath('*').as_posix()))\n",
        "  num_dogs_tr = len(glob(train_dogs_dir.joinpath('*').as_posix()))\n",
        "  num_cats_val = len(glob(validation_cats_dir.joinpath('*').as_posix()))\n",
        "  num_dogs_val = len(glob(validation_dogs_dir.joinpath('*').as_posix()))\n",
        "\n",
        "  total_train = num_cats_tr + num_dogs_tr\n",
        "  total_val = num_cats_val + num_dogs_val\n",
        "\n",
        "  print(f'total training cat images:   {num_cats_tr:4}')\n",
        "  print(f'total training dog images:   {num_dogs_tr:4}')\n",
        "  print(f'total validation cat images: {num_cats_val:4}')\n",
        "  print(f'total validation dog images: {num_dogs_val:4}')\n",
        "\n",
        "  print('--')\n",
        "\n",
        "  print(f'Total training images:   {total_train:4}')\n",
        "  print(f'Total validation images: {total_val:4}')\n",
        "\n",
        "how_many_cats_and_dogs_images_are_there()"
      ],
      "execution_count": 34,
      "outputs": [
        {
          "output_type": "stream",
          "text": [
            "total training cat images:   1000\n",
            "total training dog images:   1000\n",
            "total validation cat images:  500\n",
            "total validation dog images:  500\n",
            "--\n",
            "Total training images:   2000\n",
            "Total validation images: 1000\n"
          ],
          "name": "stdout"
        }
      ]
    },
    {
      "cell_type": "code",
      "metadata": {
        "id": "zL9nT5r-4gnQ",
        "colab_type": "code",
        "colab": {}
      },
      "source": [
        "def generate_images(img_dir, batch_size=128, epochs=15, img_size=(150, 150)):\n",
        "  return ImageDataGenerator(rescale=1./255).flow_from_directory(batch_size=batch_size,\n",
        "                                                                directory=img_dir,\n",
        "                                                                shuffle=True,\n",
        "                                                                target_size=img_size,\n",
        "                                                                class_mode='binary')"
      ],
      "execution_count": 0,
      "outputs": []
    },
    {
      "cell_type": "code",
      "metadata": {
        "id": "ooLMr27A8h29",
        "colab_type": "code",
        "colab": {
          "base_uri": "https://localhost:8080/",
          "height": 54
        },
        "outputId": "6d6ef3ef-7f91-42f6-d9ae-fd53dfd3f367"
      },
      "source": [
        "train_data_gen = generate_images(img_dir=train_dir)"
      ],
      "execution_count": 39,
      "outputs": [
        {
          "output_type": "stream",
          "text": [
            "Found 2000 images belonging to 2 classes.\n"
          ],
          "name": "stdout"
        }
      ]
    },
    {
      "cell_type": "code",
      "metadata": {
        "id": "X-4zQZXh8rHd",
        "colab_type": "code",
        "colab": {
          "base_uri": "https://localhost:8080/",
          "height": 54
        },
        "outputId": "5dc8472e-8338-450c-b325-61cf8168c0ae"
      },
      "source": [
        "val_data_gen = generate_images(img_dir=validation_dir)"
      ],
      "execution_count": 40,
      "outputs": [
        {
          "output_type": "stream",
          "text": [
            "Found 1000 images belonging to 2 classes.\n"
          ],
          "name": "stdout"
        }
      ]
    },
    {
      "cell_type": "code",
      "metadata": {
        "id": "r63RVMZg9Gzg",
        "colab_type": "code",
        "colab": {}
      },
      "source": [
        ""
      ],
      "execution_count": 0,
      "outputs": []
    }
  ]
}